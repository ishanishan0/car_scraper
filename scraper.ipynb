{
 "cells": [
  {
   "cell_type": "code",
   "execution_count": 16,
   "metadata": {},
   "outputs": [],
   "source": [
    "import requests\n",
    "from bs4 import BeautifulSoup, element, ResultSet\n",
    "\n",
    "base_url = \"https://www.autotrader.com/cars-for-sale/all-cars/bmw/santa-clara-ca?zip=95050\""
   ]
  },
  {
   "cell_type": "code",
   "execution_count": 17,
   "metadata": {},
   "outputs": [],
   "source": [
    "page = requests.get(base_url)\n",
    "soup = BeautifulSoup(page.content, \"html.parser\")"
   ]
  },
  {
   "cell_type": "code",
   "execution_count": 18,
   "metadata": {},
   "outputs": [],
   "source": [
    "# Find elements with <div> tag and data-cmp = itemCard\n",
    "\n",
    "results:ResultSet[element.Tag] = soup.findAll(\"div\", {\"data-cmp\" : \"itemCard\"})"
   ]
  },
  {
   "cell_type": "code",
   "execution_count": 19,
   "metadata": {},
   "outputs": [
    {
     "data": {
      "text/plain": [
       "['/cars-for-sale/vehicle/716717312?allListingType=all-cars&city=Santa%20Clara&makeCode=BMW&newSearch=false&referrer=%2Fall-cars%2Fbmw%2Fsanta-clara-ca%3Fzip%3D95050&state=CA&clickType=alpha',\n",
       " '/cars-for-sale/vehicle/718012836?allListingType=all-cars&city=Santa%20Clara&makeCode=BMW&newSearch=false&referrer=%2Fall-cars%2Fbmw%2Fsanta-clara-ca%3Fzip%3D95050&state=CA&clickType=spotlight',\n",
       " '/cars-for-sale/vehicle/716879462?allListingType=all-cars&city=Santa%20Clara&makeCode=BMW&newSearch=false&referrer=%2Fall-cars%2Fbmw%2Fsanta-clara-ca%3Fzip%3D95050&state=CA&clickType=spotlight',\n",
       " '/cars-for-sale/vehicle/711568993?allListingType=all-cars&city=Santa%20Clara&makeCode=BMW&newSearch=false&referrer=%2Fall-cars%2Fbmw%2Fsanta-clara-ca%3Fzip%3D95050&state=CA&clickType=spotlight',\n",
       " '/cars-for-sale/vehicle/718470539?allListingType=all-cars&city=Santa%20Clara&makeCode=BMW&newSearch=false&referrer=%2Fall-cars%2Fbmw%2Fsanta-clara-ca%3Fzip%3D95050&state=CA&clickType=listing',\n",
       " '/cars-for-sale/vehicle/719654003?allListingType=all-cars&city=Santa%20Clara&makeCode=BMW&newSearch=false&referrer=%2Fall-cars%2Fbmw%2Fsanta-clara-ca%3Fzip%3D95050&state=CA&clickType=listing',\n",
       " '/cars-for-sale/vehicle/719641145?allListingType=all-cars&city=Santa%20Clara&makeCode=BMW&newSearch=false&referrer=%2Fall-cars%2Fbmw%2Fsanta-clara-ca%3Fzip%3D95050&state=CA&clickType=listing']"
      ]
     },
     "execution_count": 19,
     "metadata": {},
     "output_type": "execute_result"
    }
   ],
   "source": [
    "links = []\n",
    "for result in results :\n",
    "    link_element = result.find(\"a\", {\"data-cmp\" : \"link\"}, href=True)\n",
    "    if isinstance(link_element, element.Tag) and link_element['href'][0] == \"/\":\n",
    "        links.append(link_element['href'])\n",
    "\n",
    "links"
   ]
  },
  {
   "cell_type": "code",
   "execution_count": 33,
   "metadata": {},
   "outputs": [
    {
     "name": "stdout",
     "output_type": "stream",
     "text": [
      "/cars-for-sale/vehicle/716717312?allListingType=all-cars&city=Santa%20Clara&makeCode=BMW&newSearch=false&referrer=%2Fall-cars%2Fbmw%2Fsanta-clara-ca%3Fzip%3D95050&state=CA&clickType=alpha\n",
      "https://www.autotrader.com/cars-for-sale/vehicle/716717312?allListingType=all-cars&city=Santa%20Clara&makeCode=BMW&newSearch=false&referrer=%2Fall-cars%2Fbmw%2Fsanta-clara-ca%3Fzip%3D95050&state=CA&clickType=alpha\n",
      "None\n",
      "/cars-for-sale/vehicle/718012836?allListingType=all-cars&city=Santa%20Clara&makeCode=BMW&newSearch=false&referrer=%2Fall-cars%2Fbmw%2Fsanta-clara-ca%3Fzip%3D95050&state=CA&clickType=spotlight\n",
      "https://www.autotrader.com/cars-for-sale/vehicle/718012836?allListingType=all-cars&city=Santa%20Clara&makeCode=BMW&newSearch=false&referrer=%2Fall-cars%2Fbmw%2Fsanta-clara-ca%3Fzip%3D95050&state=CA&clickType=spotlight\n",
      "None\n"
     ]
    }
   ],
   "source": [
    "output_list = []\n",
    "\n",
    "for link in links[:2]:\n",
    "    print(link)\n",
    "    page = requests.get(f\"https://www.autotrader.com{link}\")\n",
    "    soup = BeautifulSoup(page.content, \"html.parser\")\n",
    "    title = soup.find(\"h1\", {\"data-cmp\" : \"heading\"}).text\n",
    "    pricing = soup.find(\"span\", {\"data-cmp\" : \"firstPrice\"}).text\n",
    "    feature_list = []\n",
    "    features = soup.find(\"ul\", {\"data-cmp\" : \"listColumns\"})\n",
    "    if isinstance(features, element.Tag) : \n",
    "        for feature in features.find_all(recursive=False):\n",
    "            feature_list.append(feature.text)\n",
    "\n",
    "    print(f\"https://www.autotrader.com{link}\")\n",
    "    description = soup.find(\"div\", {\"data-cmp\" : \"seeMore\"})\n",
    "    print(description)\n",
    "    output_list.append(f\"Title: {title} \\nPrice: {pricing} \\nFeatures: {feature_list} \\nDescription: {description} \\n\")"
   ]
  },
  {
   "cell_type": "code",
   "execution_count": 31,
   "metadata": {},
   "outputs": [
    {
     "data": {
      "text/plain": [
       "[\"Title: Used 2016 BMW X1 xDrive28i \\nPrice: $17,990 \\nFeatures: ['58,050 miles', '2.0L 4-Cylinder Turbo Gas Engine', '22 City / 31 Highway ', '\\\\xa0Alpine White Exterior', '\\\\xa0Black Interior', '8-Speed Automatic Transmission', 'All wheel drive'] \\nDescription: None \\n\",\n",
       " \"Title: Used 2024 BMW iX xDrive50 w/ Sport Package \\nPrice: $74,814 \\nFeatures: ['14,526 miles- Low Mileage ', 'Electric ', '307 EV Mile Range ', 'Est. 11hr Charging TimeSee Details', '\\\\xa0Black Sapphire Metallic Exterior', '\\\\xa0Black Interior', 'Single-Speed Transmission', 'All wheel drive'] \\nDescription: None \\n\"]"
      ]
     },
     "execution_count": 31,
     "metadata": {},
     "output_type": "execute_result"
    }
   ],
   "source": [
    "output_list"
   ]
  }
 ],
 "metadata": {
  "kernelspec": {
   "display_name": "Python 3",
   "language": "python",
   "name": "python3"
  },
  "language_info": {
   "codemirror_mode": {
    "name": "ipython",
    "version": 3
   },
   "file_extension": ".py",
   "mimetype": "text/x-python",
   "name": "python",
   "nbconvert_exporter": "python",
   "pygments_lexer": "ipython3",
   "version": "3.9.5"
  }
 },
 "nbformat": 4,
 "nbformat_minor": 2
}
